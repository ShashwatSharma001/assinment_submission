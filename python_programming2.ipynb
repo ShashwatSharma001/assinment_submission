{
 "cells": [
  {
   "cell_type": "markdown",
   "metadata": {},
   "source": [
    "1.\tWrite a Python program to convert kilometers to miles?\n",
    "2.\tWrite a Python program to convert Celsius to Fahrenheit?\n",
    "3.\tWrite a Python program to display calendar?\n",
    "4.\tWrite a Python program to solve quadratic equation?\n",
    "5.\tWrite a Python program to swap two variables without temp variable?\n",
    "\n"
   ]
  },
  {
   "cell_type": "code",
   "execution_count": 20,
   "metadata": {},
   "outputs": [
    {
     "name": "stdout",
     "output_type": "stream",
     "text": [
      "Enter Kilometer: 100\n",
      "62.137100000000004\n"
     ]
    }
   ],
   "source": [
    "## ans1\n",
    "q = int(input(\"Enter Kilometer: \"))\n",
    "a=0.6\n",
    "total = q*0.621371\n",
    "print(total,\"miles\")"
   ]
  },
  {
   "cell_type": "code",
   "execution_count": 25,
   "metadata": {},
   "outputs": [
    {
     "name": "stdout",
     "output_type": "stream",
     "text": [
      "Enter temperature in celcius:  1\n",
      "33.8  this is Fahrenheit\n"
     ]
    }
   ],
   "source": [
    "##ans 2\n",
    "q = int(input(\"Enter temperature in celcius:  \"))\n",
    "total = (q * 9/5) + 32 \n",
    "print(total ,\" this is Fahrenheit\")\n"
   ]
  },
  {
   "cell_type": "code",
   "execution_count": 34,
   "metadata": {},
   "outputs": [
    {
     "name": "stdout",
     "output_type": "stream",
     "text": [
      "Enter the full year you want to see: 97\n",
      "Enter the  month in number format you want to see: 07\n",
      "      July 97\n",
      "Mo Tu We Th Fr Sa Su\n",
      " 1  2  3  4  5  6  7\n",
      " 8  9 10 11 12 13 14\n",
      "15 16 17 18 19 20 21\n",
      "22 23 24 25 26 27 28\n",
      "29 30 31\n",
      "\n"
     ]
    }
   ],
   "source": [
    "## ans 3\n",
    "import calendar\n",
    "\n",
    "y=int(input(\"Enter the full year you want to see: \"))\n",
    "m=int(input(\"Enter the  month in number format you want to see: \")) \n",
    "\n",
    "print(calendar.month(y, m))\n"
   ]
  },
  {
   "cell_type": "code",
   "execution_count": 41,
   "metadata": {},
   "outputs": [
    {
     "name": "stdout",
     "output_type": "stream",
     "text": [
      "Enter number as a:44\n",
      "Enter number as b:35\n",
      "number after swap a:35\n",
      "number after swap b:44\n"
     ]
    }
   ],
   "source": [
    "## ans5\n",
    "a = int(input(\"Enter number as a:\"))\n",
    "b = int(input(\"Enter number as b:\"))\n",
    "a,b=b,a\n",
    "print(\"number after swap a:{}\".format(a))\n",
    "print(\"number after swap b:{}\".format(b))\n"
   ]
  },
  {
   "cell_type": "code",
   "execution_count": null,
   "metadata": {},
   "outputs": [],
   "source": []
  }
 ],
 "metadata": {
  "kernelspec": {
   "display_name": "Python 3",
   "language": "python",
   "name": "python3"
  },
  "language_info": {
   "codemirror_mode": {
    "name": "ipython",
    "version": 3
   },
   "file_extension": ".py",
   "mimetype": "text/x-python",
   "name": "python",
   "nbconvert_exporter": "python",
   "pygments_lexer": "ipython3",
   "version": "3.8.3"
  }
 },
 "nbformat": 4,
 "nbformat_minor": 4
}
