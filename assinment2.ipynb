{
 "cells": [
  {
   "cell_type": "markdown",
   "metadata": {},
   "source": [
    "#### 1.What are the two values of the Boolean data type? How do you write them?\n",
    "Ans. True and False\n",
    "\n",
    "\n",
    "#### 2. What are the three different types of Boolean operators?\n",
    "Ans. and or not\n",
    "\n"
   ]
  },
  {
   "cell_type": "raw",
   "metadata": {},
   "source": [
    " 3. Make a list of each Boolean operator's truth tables (i.e. every possible combination of Boolean values for the operator and what it evaluate ?.\n",
    "Ans.  \n",
    " \n",
    "True and True is True.\n",
    "True and False is False.\n",
    "False and True is False.\n",
    "False and False is False.\n",
    "True or True is True.\n",
    "True or False is True.\n",
    "False or True is True.\n",
    "False or False is False.\n",
    "not True is False.\n",
    "not False is True."
   ]
  },
  {
   "cell_type": "raw",
   "metadata": {},
   "source": [
    " 4. What are the values of the following expressions?\n",
    "(5 > 4) and (3 == 5) >>-- False\n",
    "not (5 > 4)  >>--  False\n",
    "(5 > 4) or (3 == 5) >>-- True\n",
    "not ((5 > 4) or (3 == 5))>>-- False\n",
    "(True and True) and (True == False) >>-- False\n",
    "\n",
    "(not False) or (not True) named bacon() inside a module named spam, how would you call it after importing spam? >>--True\n",
    "\n"
   ]
  },
  {
   "cell_type": "raw",
   "metadata": {},
   "source": [
    "\n",
    "5. What are the six comparison operators?\n",
    "ans. <,>,<=,>=,==,!=\n"
   ]
  },
  {
   "cell_type": "raw",
   "metadata": {},
   "source": [
    "6. How do you tell the difference between the equal to and assignment operators?Describe a condition and when you would use one.\n",
    "\n",
    "ans. = this is an assignment operator and == this is a equal operator\n",
    "example \n",
    " a=4 we assign 4 to variable a \n",
    " if type(i)==int:\n",
    "\n",
    "\n",
    "7. Identify the three blocks in this code:\n",
    "spam = 0\n",
    "if spam == 10:\n",
    "print('eggs')\n",
    "if spam > 5:\n",
    "print('bacon')\n",
    "else:\n",
    "print('ham')\n",
    "print('spam')\n",
    "print('spam')\n",
    "\n",
    "ans. bacon\n",
    "\n",
    "\n",
    "8. Write code that prints Hello if 1 is stored in spam, prints Howdy if 2 is stored in spam, and prints Greetings! if anything else is stored in spam.\n",
    "ans.\n",
    "\n",
    "if spam == 1:\n",
    "    print(\"Helo\")\n",
    "elif spam== 2:\n",
    "    print(\" Howdy\")\n",
    "else:\n",
    "    print(\"Greetings\")\n",
    "\n",
    "\n",
    "9.If your programme is stuck in an endless loop, what keys you’ll press?\n",
    "ans. ctrl +c\n",
    "\n",
    "10. How can you tell the difference between break and continue?\n",
    "ans. break>>-- breaks the loop and come out of loop\n",
    "    whereas continue >>-- skip the condition and continue the loop \n",
    "    \n",
    "11. In a for loop, what is the difference between range(10), range(0, 10), and range(0, 10, 1)?\n",
    "ans. \n",
    "range(10) >>-- tells loop to start from 0 but not including 10\n",
    "range(0,10) >>-- tells loop to exactly start from 0\n",
    "range(0, 10, 1) >>-- starts at 0 with step size of 1\n",
    "\n",
    "\n",
    "12. Write a short program that prints the numbers 1 to 10 using a for loop. Then write an equivalent program that prints the numbers 1 to 10 using a while loop.\n",
    "ans. \n",
    "for i in range(11):\n",
    "    print(i)\n",
    "\n",
    "\n",
    "i = 1\n",
    "while(i<=10):\n",
    "    print(i)\n",
    "    i =i+1\n",
    "\n",
    "\n",
    "13. If you had a function named bacon() inside a module named spam, how would you call it after importing spam?\n",
    "ans. spam.bacon()"
   ]
  },
  {
   "cell_type": "code",
   "execution_count": null,
   "metadata": {},
   "outputs": [],
   "source": []
  }
 ],
 "metadata": {
  "kernelspec": {
   "display_name": "Python 3",
   "language": "python",
   "name": "python3"
  },
  "language_info": {
   "codemirror_mode": {
    "name": "ipython",
    "version": 3
   },
   "file_extension": ".py",
   "mimetype": "text/x-python",
   "name": "python",
   "nbconvert_exporter": "python",
   "pygments_lexer": "ipython3",
   "version": "3.8.3"
  }
 },
 "nbformat": 4,
 "nbformat_minor": 4
}
